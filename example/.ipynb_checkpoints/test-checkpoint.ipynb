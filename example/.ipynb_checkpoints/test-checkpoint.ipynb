{
 "cells": [
  {
   "cell_type": "code",
   "execution_count": 1,
   "metadata": {},
   "outputs": [],
   "source": [
    "import wdphoto\n",
    "from astropy.table import Table, join"
   ]
  },
  {
   "cell_type": "code",
   "execution_count": 2,
   "metadata": {},
   "outputs": [],
   "source": [
    "catalog = Table.read('../ir-excess-wds/data/1710105466553A.csv')[0:10]\n",
    "catalog['e_Gmag'] = 0.03\n",
    "catalog['e_BPmag'] = 0.03\n",
    "catalog['e_RPmag'] = 0.03\n",
    "\n",
    "catalog.rename_column('GaiaEDR3', 'source_id')"
   ]
  },
  {
   "cell_type": "code",
   "execution_count": 3,
   "metadata": {},
   "outputs": [
    {
     "data": {
      "text/html": [
       "<div><i>Table length=10</i>\n",
       "<table id=\"table23456195098080\" class=\"table-striped table-bordered table-condensed\">\n",
       "<thead><tr><th>angDist</th><th>objID</th><th>RAdeg</th><th>DEdeg</th><th>XposW1</th><th>XposW2</th><th>YposW1</th><th>YposW2</th><th>FW1</th><th>FW2</th><th>e_XposW1</th><th>e_XposW2</th><th>e_YposW1</th><th>e_YposW2</th><th>e_FW1</th><th>e_FW2</th><th>q_W1</th><th>q_W2</th><th>rchi2W1</th><th>rchi2W2</th><th>fFW1</th><th>fFW2</th><th>FW1lbs</th><th>FW2lbs</th><th>e_FW1lbs</th><th>e_FW2lbs</th><th>fwhmW1</th><th>fwhmW2</th><th>SpModW1</th><th>SpModW2</th><th>e_SpModW1</th><th>e_SpModW2</th><th>skyW1</th><th>skyW2</th><th>RAW1deg</th><th>RAW2deg</th><th>DEW1deg</th><th>DEW2deg</th><th>coaddID</th><th>detIDW1</th><th>detIDW2</th><th>nmW1</th><th>nmW2</th><th>PrimW1</th><th>PrimW2</th><th>FlagsW1</th><th>FlagsW2</th><th>f_FlagsW1</th><th>f_FlagsW2</th><th>Prim</th><th>_RAJ2000</th><th>_DEJ2000</th><th>recno</th><th>WDJname</th><th>source_id</th><th>RA_ICRS</th><th>DE_ICRS</th><th>Plx</th><th>Pwd</th><th>pmRA</th><th>pmDE</th><th>Gmag</th><th>BPmag</th><th>RPmag</th><th>TeffH</th><th>loggH</th><th>MassH</th><th>TeffHe</th><th>loggHe</th><th>MassHe</th><th>rgeo</th><th>rpgeo</th><th>SDSS12</th><th>umag</th><th>gmag</th><th>rmag</th><th>imag</th><th>zmag</th><th>_RA.icrs</th><th>_DE.icrs</th></tr></thead>\n",
       "<thead><tr><th>float64</th><th>str16</th><th>float64</th><th>float64</th><th>float64</th><th>float64</th><th>float64</th><th>float64</th><th>float64</th><th>float64</th><th>float64</th><th>float64</th><th>float64</th><th>float64</th><th>float64</th><th>float64</th><th>float64</th><th>float64</th><th>float64</th><th>float64</th><th>float64</th><th>float64</th><th>float64</th><th>float64</th><th>float64</th><th>float64</th><th>float64</th><th>float64</th><th>float64</th><th>float64</th><th>float64</th><th>float64</th><th>float64</th><th>float64</th><th>float64</th><th>float64</th><th>float64</th><th>float64</th><th>str8</th><th>str18</th><th>str18</th><th>int64</th><th>int64</th><th>int64</th><th>int64</th><th>int64</th><th>int64</th><th>int64</th><th>int64</th><th>int64</th><th>float64</th><th>float64</th><th>int64</th><th>str22</th><th>int64</th><th>float64</th><th>float64</th><th>float64</th><th>float64</th><th>float64</th><th>float64</th><th>float64</th><th>float64</th><th>float64</th><th>float64</th><th>float64</th><th>float64</th><th>float64</th><th>float64</th><th>float64</th><th>float64</th><th>float64</th><th>str19</th><th>float64</th><th>float64</th><th>float64</th><th>float64</th><th>float64</th><th>float64</th><th>float64</th></tr></thead>\n",
       "<tr><td>0.70094</td><td>0000m258o0036186</td><td>0.0011092</td><td>-25.7754318</td><td>984.39</td><td>0.0</td><td>1022.192</td><td>0.0</td><td>92.1432</td><td>0.0</td><td>0.135</td><td>0.0</td><td>0.139</td><td>0.0</td><td>7.2143</td><td>0.0</td><td>1.0</td><td>0.0</td><td>0.73866</td><td>0.0</td><td>0.9844</td><td>0.0</td><td>83.3633</td><td>0.0</td><td>7.37506</td><td>0.0</td><td>2.6342</td><td>0.0</td><td>0.0003841519</td><td>0.0</td><td>0.002817594</td><td>0.0</td><td>0.0453614</td><td>0.0</td><td>0.0011092</td><td>0.0</td><td>-25.7754318</td><td>0.0</td><td>0000m258</td><td>0000m258w1o0019825</td><td>--</td><td>118</td><td>0</td><td>1</td><td>0</td><td>0</td><td>0</td><td>0</td><td>0</td><td>1</td><td>0.0009053387567</td><td>-25.7753669021882</td><td>2</td><td>WDJ000000.22-254631.32</td><td>2334982270668338432</td><td>0.00087637232</td><td>-25.77545411108</td><td>5.7398</td><td>0.779651</td><td>-5.869</td><td>-19.622</td><td>20.7786</td><td>21.1429</td><td>19.9664</td><td>--</td><td>--</td><td>--</td><td>--</td><td>--</td><td>--</td><td>386.726837</td><td>7320.25732</td><td>--</td><td>--</td><td>--</td><td>--</td><td>--</td><td>--</td><td>0.00090533876</td><td>-25.77536690219</td></tr>\n",
       "<tr><td>1.021069</td><td>0000p439o0079126</td><td>0.0026329</td><td>43.8205337</td><td>894.744</td><td>0.0</td><td>1021.013</td><td>0.0</td><td>69.6822</td><td>0.0</td><td>0.163</td><td>0.0</td><td>0.166</td><td>0.0</td><td>6.50942</td><td>0.0</td><td>1.0</td><td>0.0</td><td>0.49465</td><td>0.0</td><td>0.6181</td><td>0.0</td><td>67.0582</td><td>0.0</td><td>6.65685</td><td>0.0</td><td>2.6313</td><td>0.0</td><td>0.006241798</td><td>0.0</td><td>0.003409738</td><td>0.0</td><td>-2.2117</td><td>0.0</td><td>0.0026329</td><td>0.0</td><td>43.8205337</td><td>0.0</td><td>0000p439</td><td>0000p439w1o0072570</td><td>--</td><td>147</td><td>0</td><td>1</td><td>0</td><td>0</td><td>0</td><td>0</td><td>0</td><td>1</td><td>0.0022801572869</td><td>43.8206589202863</td><td>3</td><td>WDJ000000.55+434914.36</td><td>384905313981247488</td><td>0.00226170218</td><td>43.82061818251</td><td>1.3936</td><td>0.609909</td><td>-2.996</td><td>-9.166</td><td>20.1039</td><td>20.1224</td><td>19.8045</td><td>--</td><td>--</td><td>--</td><td>--</td><td>--</td><td>--</td><td>909.750366</td><td>402.064178</td><td>--</td><td>--</td><td>--</td><td>--</td><td>--</td><td>--</td><td>0.00228015729</td><td>43.82065892029</td></tr>\n",
       "<tr><td>0.252951</td><td>0000p469o0008608</td><td>0.003459</td><td>46.5082507</td><td>448.108</td><td>448.018</td><td>1020.383</td><td>1020.228</td><td>296.322</td><td>184.443</td><td>0.039</td><td>0.251</td><td>0.04</td><td>0.254</td><td>6.9265</td><td>25.1234</td><td>1.0</td><td>1.0</td><td>0.83116</td><td>0.8148</td><td>0.9463</td><td>0.9401</td><td>292.409</td><td>206.356</td><td>7.07896</td><td>25.7938</td><td>2.6355</td><td>2.8614</td><td>0.001186371</td><td>-0.01325625</td><td>0.0008835485</td><td>0.005481</td><td>-2.67463</td><td>-6.54043</td><td>0.003459</td><td>0.0036314</td><td>46.5082507</td><td>46.5081819</td><td>0000p469</td><td>0000p469w1o0010610</td><td>0000p469w2o0007796</td><td>154</td><td>152</td><td>1</td><td>1</td><td>0</td><td>0</td><td>0</td><td>0</td><td>1</td><td>0.0034343017942</td><td>46.50818256298</td><td>5</td><td>WDJ000000.82+463029.46</td><td>386745999526937472</td><td>0.00339863651</td><td>46.50818744743</td><td>3.5409</td><td>0.020146</td><td>-5.523</td><td>1.099</td><td>18.172</td><td>18.3438</td><td>17.4145</td><td>--</td><td>--</td><td>--</td><td>--</td><td>--</td><td>--</td><td>347.907593</td><td>417.424683</td><td>--</td><td>--</td><td>--</td><td>--</td><td>--</td><td>--</td><td>0.00343430179</td><td>46.50818256298</td></tr>\n",
       "<tr><td>0.135487</td><td>0000p545o0080941</td><td>0.0069298</td><td>55.0180085</td><td>1675.455</td><td>1675.562</td><td>1018.299</td><td>1018.086</td><td>117.854</td><td>161.919</td><td>0.091</td><td>0.266</td><td>0.095</td><td>0.273</td><td>6.26821</td><td>23.432</td><td>1.0</td><td>1.0</td><td>0.86969</td><td>0.32533</td><td>0.6955</td><td>0.7914</td><td>116.44</td><td>145.047</td><td>6.41559</td><td>24.0638</td><td>2.6304</td><td>2.8561</td><td>-0.001417518</td><td>-0.003584564</td><td>0.001908138</td><td>0.005445</td><td>-8.73073</td><td>-8.11193</td><td>0.0069298</td><td>0.0072127</td><td>55.0180085</td><td>55.0180902</td><td>0000p545</td><td>0000p545w1o0113368</td><td>0000p545w2o0095021</td><td>176</td><td>173</td><td>1</td><td>1</td><td>0</td><td>0</td><td>0</td><td>0</td><td>1</td><td>0.0069253966034</td><td>55.0180460988339</td><td>7</td><td>WDJ000001.66+550104.97</td><td>420382126104059648</td><td>0.00695614159</td><td>55.01803720106</td><td>3.6215</td><td>0.349617</td><td>3.966</td><td>-2.002</td><td>20.5947</td><td>21.1013</td><td>19.816</td><td>--</td><td>--</td><td>--</td><td>--</td><td>--</td><td>--</td><td>334.596313</td><td>374.981842</td><td>--</td><td>--</td><td>--</td><td>--</td><td>--</td><td>--</td><td>0.0069253966</td><td>55.01804609883</td></tr>\n",
       "<tr><td>0.31889</td><td>0000m803o0063588</td><td>0.0066944</td><td>-80.9980592</td><td>64.534</td><td>0.0</td><td>1022.129</td><td>0.0</td><td>89.5583</td><td>0.0</td><td>0.097</td><td>0.0</td><td>0.103</td><td>0.0</td><td>5.17459</td><td>0.0</td><td>1.0</td><td>0.0</td><td>0.37751</td><td>0.0</td><td>0.7284</td><td>0.0</td><td>86.7074</td><td>0.0</td><td>5.28852</td><td>0.0</td><td>2.6396</td><td>0.0</td><td>-0.001375377</td><td>0.0</td><td>0.002121079</td><td>0.0</td><td>-1.60328</td><td>0.0</td><td>0.0066944</td><td>0.0</td><td>-80.9980592</td><td>0.0</td><td>0000m803</td><td>0000m803w1o0049543</td><td>--</td><td>247</td><td>0</td><td>1</td><td>0</td><td>0</td><td>0</td><td>0</td><td>0</td><td>1</td><td>0.007248638509</td><td>-80.9980772345609</td><td>9</td><td>WDJ000001.74-805953.08</td><td>4634221952348062464</td><td>0.00735686112</td><td>-80.99809576791</td><td>3.4303</td><td>0.198103</td><td>3.81</td><td>-4.17</td><td>20.2371</td><td>20.614</td><td>19.3717</td><td>--</td><td>--</td><td>--</td><td>--</td><td>--</td><td>--</td><td>292.800293</td><td>302.375488</td><td>--</td><td>--</td><td>--</td><td>--</td><td>--</td><td>--</td><td>0.00724863851</td><td>-80.99807723456</td></tr>\n",
       "<tr><td>0.423421</td><td>0000m818o0072350</td><td>0.0065433</td><td>-80.9981179</td><td>2047.118</td><td>0.0</td><td>1022.16</td><td>0.0</td><td>90.1198</td><td>0.0</td><td>0.137</td><td>0.0</td><td>0.118</td><td>0.0</td><td>6.04307</td><td>0.0</td><td>0.64749</td><td>0.0</td><td>0.31703</td><td>0.0</td><td>0.7822</td><td>0.0</td><td>88.1102</td><td>0.0</td><td>6.18354</td><td>0.0</td><td>2.6244</td><td>0.0</td><td>-0.001944959</td><td>0.0</td><td>0.002368453</td><td>0.0</td><td>-0.770328</td><td>0.0</td><td>0.0065433</td><td>0.0</td><td>-80.9981179</td><td>0.0</td><td>0000m818</td><td>0000m818w1o0061716</td><td>--</td><td>247</td><td>0</td><td>0</td><td>0</td><td>0</td><td>0</td><td>0</td><td>0</td><td>0</td><td>0.007248638509</td><td>-80.9980772345609</td><td>9</td><td>WDJ000001.74-805953.08</td><td>4634221952348062464</td><td>0.00735686112</td><td>-80.99809576791</td><td>3.4303</td><td>0.198103</td><td>3.81</td><td>-4.17</td><td>20.2371</td><td>20.614</td><td>19.3717</td><td>--</td><td>--</td><td>--</td><td>--</td><td>--</td><td>--</td><td>292.800293</td><td>302.375488</td><td>--</td><td>--</td><td>--</td><td>--</td><td>--</td><td>--</td><td>0.00724863851</td><td>-80.99807723456</td></tr>\n",
       "<tr><td>0.742362</td><td>0000p711o0175142</td><td>0.0145425</td><td>71.6533444</td><td>1644.62</td><td>0.0</td><td>1017.507</td><td>0.0</td><td>35.4172</td><td>0.0</td><td>0.254</td><td>0.0</td><td>0.27</td><td>0.0</td><td>5.23255</td><td>0.0</td><td>1.0</td><td>0.0</td><td>0.66153</td><td>0.0</td><td>0.254</td><td>0.0</td><td>28.7364</td><td>0.0</td><td>5.36293</td><td>0.0</td><td>2.6277</td><td>0.0</td><td>0.01074034</td><td>0.0</td><td>0.005419834</td><td>0.0</td><td>-5.49424</td><td>0.0</td><td>0.0145425</td><td>0.0</td><td>71.6533444</td><td>0.0</td><td>0000p711</td><td>0000p711w1o0175021</td><td>--</td><td>245</td><td>0</td><td>1</td><td>0</td><td>0</td><td>0</td><td>0</td><td>0</td><td>1</td><td>0.0141463991321</td><td>71.6535086796783</td><td>21</td><td>WDJ000003.39+713912.64</td><td>531377820628691968</td><td>0.01449769018</td><td>71.65360244</td><td>4.9837</td><td>0.995119</td><td>24.879</td><td>21.096</td><td>20.3826</td><td>20.5455</td><td>20.0288</td><td>7149.18</td><td>8.308166</td><td>0.78823</td><td>7020.08</td><td>8.24776</td><td>0.732026</td><td>208.961349</td><td>244.593292</td><td>--</td><td>--</td><td>--</td><td>--</td><td>--</td><td>--</td><td>0.01414639913</td><td>71.65350867968</td></tr>\n",
       "<tr><td>1.022724</td><td>0000p393o0085873</td><td>0.0143313</td><td>38.707647</td><td>149.108</td><td>0.0</td><td>1008.859</td><td>0.0</td><td>79.6617</td><td>0.0</td><td>0.155</td><td>0.0</td><td>0.159</td><td>0.0</td><td>7.12235</td><td>0.0</td><td>1.0</td><td>0.0</td><td>0.81242</td><td>0.0</td><td>0.6192</td><td>0.0</td><td>74.4446</td><td>0.0</td><td>7.28521</td><td>0.0</td><td>2.6274</td><td>0.0</td><td>0.001356661</td><td>0.0</td><td>0.003249025</td><td>0.0</td><td>-1.06875</td><td>0.0</td><td>0.0143313</td><td>0.0</td><td>38.707647</td><td>0.0</td><td>0000p393</td><td>0000p393w1o0085141</td><td>--</td><td>125</td><td>0</td><td>1</td><td>0</td><td>0</td><td>0</td><td>0</td><td>0</td><td>1</td><td>0.0145918194003</td><td>38.7078454412602</td><td>22</td><td>WDJ000003.50+384228.24</td><td>2881740845924738944</td><td>0.01457711365</td><td>38.70779177015</td><td>1.132</td><td>0.049028</td><td>-2.582</td><td>-12.076</td><td>20.123</td><td>20.389</td><td>19.5168</td><td>--</td><td>--</td><td>--</td><td>--</td><td>--</td><td>--</td><td>1141.21338</td><td>10220.4863</td><td>--</td><td>--</td><td>--</td><td>--</td><td>--</td><td>--</td><td>0.0145918194</td><td>38.70784544126</td></tr>\n",
       "<tr><td>0.747941</td><td>0000m727o0066079</td><td>0.0149993</td><td>-72.4913565</td><td>1287.906</td><td>0.0</td><td>1017.593</td><td>0.0</td><td>38.6589</td><td>0.0</td><td>0.232</td><td>0.0</td><td>0.249</td><td>0.0</td><td>5.3222</td><td>0.0</td><td>1.0</td><td>0.0</td><td>0.49068</td><td>0.0</td><td>0.6999</td><td>0.0</td><td>32.8838</td><td>0.0</td><td>5.44234</td><td>0.0</td><td>2.6265</td><td>0.0</td><td>-6.991625e-05</td><td>0.0</td><td>0.00503222</td><td>0.0</td><td>-0.820042</td><td>0.0</td><td>0.0149993</td><td>0.0</td><td>-72.4913565</td><td>0.0</td><td>0000m727</td><td>0000m727w1o0056776</td><td>--</td><td>206</td><td>0</td><td>1</td><td>0</td><td>0</td><td>0</td><td>0</td><td>0</td><td>1</td><td>0.0147042449187</td><td>-72.4915443424116</td><td>23</td><td>WDJ000003.53-722929.56</td><td>4689743922296231168</td><td>0.01483158928</td><td>-72.49154548023</td><td>0.8639</td><td>0.030875</td><td>8.62</td><td>-0.256</td><td>20.1753</td><td>20.4215</td><td>19.6939</td><td>--</td><td>--</td><td>--</td><td>--</td><td>--</td><td>--</td><td>1327.99182</td><td>1319.61108</td><td>--</td><td>--</td><td>--</td><td>--</td><td>--</td><td>--</td><td>0.01470424492</td><td>-72.49154434241</td></tr>\n",
       "<tr><td>1.220192</td><td>0000p030o0062315</td><td>0.0175281</td><td>3.3861902</td><td>1491.246</td><td>0.0</td><td>1000.594</td><td>0.0</td><td>118.772</td><td>0.0</td><td>0.113</td><td>0.0</td><td>0.116</td><td>0.0</td><td>7.71206</td><td>0.0</td><td>1.0</td><td>0.0</td><td>1.2297</td><td>0.0</td><td>0.5612</td><td>0.0</td><td>117.248</td><td>0.0</td><td>7.87843</td><td>0.0</td><td>2.631</td><td>0.0</td><td>0.006115615</td><td>0.0</td><td>0.002358864</td><td>0.0</td><td>0.107123</td><td>0.0</td><td>0.0175281</td><td>0.0</td><td>3.3861902</td><td>0.0</td><td>0000p030</td><td>0000p030w1o0061444</td><td>--</td><td>127</td><td>0</td><td>1</td><td>0</td><td>0</td><td>0</td><td>0</td><td>0</td><td>1</td><td>0.0174849637609</td><td>3.3858540180583</td><td>27</td><td>WDJ000004.20+032309.07</td><td>2740011151405035904</td><td>0.01764922382</td><td>3.38570963585</td><td>5.8977</td><td>0.489722</td><td>36.894</td><td>-32.486</td><td>20.7821</td><td>21.3886</td><td>19.7692</td><td>--</td><td>--</td><td>--</td><td>--</td><td>--</td><td>--</td><td>343.923218</td><td>4253.06543</td><td>J000004.21+032308.6</td><td>24.709</td><td>22.318</td><td>20.873</td><td>20.116</td><td>19.836</td><td>0.01748496376</td><td>3.38585401806</td></tr>\n",
       "</table></div>"
      ],
      "text/plain": [
       "<Table length=10>\n",
       "angDist       objID         RAdeg   ...   zmag     _RA.icrs       _DE.icrs   \n",
       "float64       str16        float64  ... float64    float64        float64    \n",
       "-------- ---------------- --------- ... ------- ------------- ---------------\n",
       " 0.70094 0000m258o0036186 0.0011092 ...      -- 0.00090533876 -25.77536690219\n",
       "1.021069 0000p439o0079126 0.0026329 ...      -- 0.00228015729  43.82065892029\n",
       "0.252951 0000p469o0008608  0.003459 ...      -- 0.00343430179  46.50818256298\n",
       "0.135487 0000p545o0080941 0.0069298 ...      --  0.0069253966  55.01804609883\n",
       " 0.31889 0000m803o0063588 0.0066944 ...      -- 0.00724863851 -80.99807723456\n",
       "0.423421 0000m818o0072350 0.0065433 ...      -- 0.00724863851 -80.99807723456\n",
       "0.742362 0000p711o0175142 0.0145425 ...      -- 0.01414639913  71.65350867968\n",
       "1.022724 0000p393o0085873 0.0143313 ...      --  0.0145918194  38.70784544126\n",
       "0.747941 0000m727o0066079 0.0149993 ...      -- 0.01470424492 -72.49154434241\n",
       "1.220192 0000p030o0062315 0.0175281 ...  19.836 0.01748496376   3.38585401806"
      ]
     },
     "execution_count": 3,
     "metadata": {},
     "output_type": "execute_result"
    }
   ],
   "source": [
    "catalog"
   ]
  },
  {
   "cell_type": "code",
   "execution_count": 4,
   "metadata": {},
   "outputs": [],
   "source": [
    "dist = wdphoto.dered.bailer_jones_distance(catalog, key = 'source_id')"
   ]
  },
  {
   "cell_type": "code",
   "execution_count": 5,
   "metadata": {},
   "outputs": [
    {
     "name": "stderr",
     "output_type": "stream",
     "text": [
      "Integrating extinction map (this might take a couple of minutes)...\n",
      "Optimizing map for querying (this might take a couple of seconds)...\n"
     ]
    },
    {
     "data": {
      "text/html": [
       "<div><i>Table length=10</i>\n",
       "<table id=\"table23456195099616\" class=\"table-striped table-bordered table-condensed\">\n",
       "<thead><tr><th>source_id</th><th>r_med_geo</th><th>AV_med</th><th>Gmag_ext</th><th>BPmag_ext</th><th>RPmag_ext</th><th>Gmag_dered</th><th>BPmag_dered</th><th>RPmag_dered</th></tr></thead>\n",
       "<thead><tr><th></th><th>pc</th><th></th><th></th><th></th><th></th><th></th><th></th><th></th></tr></thead>\n",
       "<thead><tr><th>int64</th><th>float32</th><th>float64</th><th>float64</th><th>float64</th><th>float64</th><th>float64</th><th>float64</th><th>float64</th></tr></thead>\n",
       "<tr><td>384905313981247488</td><td>909.75037</td><td>0.2495759795444232</td><td>0.203809004341661</td><td>0.2695031623659964</td><td>0.14296908976065764</td><td>19.90009099565834</td><td>19.852896837634002</td><td>19.661530910239343</td></tr>\n",
       "<tr><td>386745999526937472</td><td>347.9076</td><td>0.16302635768065232</td><td>0.1331307592220715</td><td>0.1760430592084502</td><td>0.09338931577928399</td><td>18.038869240777927</td><td>18.167756940791552</td><td>17.321110684220717</td></tr>\n",
       "<tr><td>420382126104059648</td><td>334.5963</td><td>0.13673134291310515</td><td>0.11165769603423711</td><td>0.1476485412454218</td><td>0.0783262703154471</td><td>20.483042303965764</td><td>20.953651458754578</td><td>19.737673729684552</td></tr>\n",
       "<tr><td>531377820628691968</td><td>208.96135</td><td>0.06082750260431063</td><td>0.049673020476586796</td><td>0.06568422305949398</td><td>0.034844910538373346</td><td>20.332926979523414</td><td>20.479815776940505</td><td>19.993955089461625</td></tr>\n",
       "<tr><td>2334982270668338432</td><td>386.72684</td><td>0.050741677901510525</td><td>0.04143672348039957</td><td>0.054793104220912416</td><td>0.029067266472317603</td><td>20.737163276519603</td><td>21.088106895779088</td><td>19.937332733527683</td></tr>\n",
       "<tr><td>2740011151405035904</td><td>343.92322</td><td>0.10580837554641839</td><td>0.08640534922666979</td><td>0.11425655572552038</td><td>0.060612111664506876</td><td>20.69569465077333</td><td>21.27434344427448</td><td>19.708587888335494</td></tr>\n",
       "<tr><td>2881740845924738944</td><td>1141.2134</td><td>0.35901197439224763</td><td>0.2931767439365856</td><td>0.3876769815852772</td><td>0.20565927572729462</td><td>19.829823256063417</td><td>20.001323018414723</td><td>19.311140724272704</td></tr>\n",
       "<tr><td>4634221952348062464</td><td>292.8003</td><td>0.20790562207580773</td><td>0.16978011229146292</td><td>0.2245056704791041</td><td>0.11909831065697887</td><td>20.06731988770854</td><td>20.389494329520897</td><td>19.25260168934302</td></tr>\n",
       "<tr><td>4634221952348062464</td><td>292.8003</td><td>0.20790610562894887</td><td>0.16978050717114818</td><td>0.2245061926411365</td><td>0.11909858765940742</td><td>20.067319492828855</td><td>20.389493807358864</td><td>19.252601412340592</td></tr>\n",
       "<tr><td>4689743922296231168</td><td>1327.9918</td><td>0.0</td><td>0.0</td><td>0.0</td><td>0.0</td><td>20.1753</td><td>20.4215</td><td>19.6939</td></tr>\n",
       "</table></div>"
      ],
      "text/plain": [
       "<Table length=10>\n",
       "     source_id      r_med_geo ...    BPmag_dered        RPmag_dered    \n",
       "                        pc    ...                                      \n",
       "       int64         float32  ...      float64            float64      \n",
       "------------------- --------- ... ------------------ ------------------\n",
       " 384905313981247488 909.75037 ... 19.852896837634002 19.661530910239343\n",
       " 386745999526937472  347.9076 ... 18.167756940791552 17.321110684220717\n",
       " 420382126104059648  334.5963 ... 20.953651458754578 19.737673729684552\n",
       " 531377820628691968 208.96135 ... 20.479815776940505 19.993955089461625\n",
       "2334982270668338432 386.72684 ... 21.088106895779088 19.937332733527683\n",
       "2740011151405035904 343.92322 ...  21.27434344427448 19.708587888335494\n",
       "2881740845924738944 1141.2134 ... 20.001323018414723 19.311140724272704\n",
       "4634221952348062464  292.8003 ... 20.389494329520897  19.25260168934302\n",
       "4634221952348062464  292.8003 ... 20.389493807358864 19.252601412340592\n",
       "4689743922296231168 1327.9918 ...            20.4215            19.6939"
      ]
     },
     "execution_count": 5,
     "metadata": {},
     "output_type": "execute_result"
    }
   ],
   "source": [
    "wdphoto.dered.edenhofer_dered(catalog, source_id_key = 'source_id', coord_keys = ('RAdeg', 'DEdeg'), \n",
    "                             photo_keys = ('Gmag', 'BPmag', 'RPmag'), photo_bands = ('Gaia_G', 'Gaia_BP', 'Gaia_RP'))"
   ]
  },
  {
   "cell_type": "code",
   "execution_count": 6,
   "metadata": {},
   "outputs": [
    {
     "name": "stderr",
     "output_type": "stream",
     "text": [
      "Integrating extinction map (this might take a couple of minutes)...\n",
      "Optimizing map for querying (this might take a couple of seconds)...\n"
     ]
    },
    {
     "name": "stdout",
     "output_type": "stream",
     "text": [
      "[[2.73471796e-17 1.51845262e-16 1.59857133e-17 1.83560043e-17\n",
      "  1.26497992e-17 1.31422911e-17 2.91755895e-17 2.34434210e-17\n",
      "  2.34434295e-17 2.12240833e-17]\n",
      " [4.67645427e-17 2.20786569e-16 1.69673822e-17 2.62511973e-17\n",
      "  1.49910713e-17 1.26281011e-17 4.07892969e-17 2.85284184e-17\n",
      "  2.85284321e-17 2.76997231e-17]\n",
      " [1.69849503e-17 1.46633220e-16 1.58346021e-17 1.25053143e-17\n",
      "  1.31747855e-17 1.62645290e-17 2.34541855e-17 2.47534633e-17\n",
      "  2.47534696e-17 1.64860513e-17]]\n"
     ]
    },
    {
     "data": {
      "text/html": [
       "<div><i>Table length=10</i>\n",
       "<table id=\"table23456195144720\" class=\"table-striped table-bordered table-condensed\">\n",
       "<thead><tr><th>source_id</th><th>r_med_geo</th><th>AV_med</th><th>Gmag_ext</th><th>BPmag_ext</th><th>RPmag_ext</th><th>Gmag_dered</th><th>BPmag_dered</th><th>RPmag_dered</th></tr></thead>\n",
       "<thead><tr><th></th><th>pc</th><th></th><th></th><th></th><th></th><th></th><th></th><th></th></tr></thead>\n",
       "<thead><tr><th>int64</th><th>float32</th><th>float64</th><th>float64</th><th>float64</th><th>float64</th><th>float64</th><th>float64</th><th>float64</th></tr></thead>\n",
       "<tr><td>384905313981247488</td><td>909.75037</td><td>0.2495759795444232</td><td>0.203809004341661</td><td>0.2695031623659964</td><td>0.14296908976065764</td><td>19.90009099565834</td><td>19.852896837634002</td><td>19.661530910239343</td></tr>\n",
       "<tr><td>386745999526937472</td><td>347.9076</td><td>0.16302635768065232</td><td>0.1331307592220715</td><td>0.1760430592084502</td><td>0.09338931577928399</td><td>18.038869240777927</td><td>18.167756940791552</td><td>17.321110684220717</td></tr>\n",
       "<tr><td>420382126104059648</td><td>334.5963</td><td>0.13673134291310515</td><td>0.11165769603423711</td><td>0.1476485412454218</td><td>0.0783262703154471</td><td>20.483042303965764</td><td>20.953651458754578</td><td>19.737673729684552</td></tr>\n",
       "<tr><td>531377820628691968</td><td>208.96135</td><td>0.06082750260431063</td><td>0.049673020476586796</td><td>0.06568422305949398</td><td>0.034844910538373346</td><td>20.332926979523414</td><td>20.479815776940505</td><td>19.993955089461625</td></tr>\n",
       "<tr><td>2334982270668338432</td><td>386.72684</td><td>0.050741677901510525</td><td>0.04143672348039957</td><td>0.054793104220912416</td><td>0.029067266472317603</td><td>20.737163276519603</td><td>21.088106895779088</td><td>19.937332733527683</td></tr>\n",
       "<tr><td>2740011151405035904</td><td>343.92322</td><td>0.10580837554641839</td><td>0.08640534922666979</td><td>0.11425655572552038</td><td>0.060612111664506876</td><td>20.69569465077333</td><td>21.27434344427448</td><td>19.708587888335494</td></tr>\n",
       "<tr><td>2881740845924738944</td><td>1141.2134</td><td>0.35901197439224763</td><td>0.2931767439365856</td><td>0.3876769815852772</td><td>0.20565927572729462</td><td>19.829823256063417</td><td>20.001323018414723</td><td>19.311140724272704</td></tr>\n",
       "<tr><td>4634221952348062464</td><td>292.8003</td><td>0.20790562207580773</td><td>0.16978011229146292</td><td>0.2245056704791041</td><td>0.11909831065697887</td><td>20.06731988770854</td><td>20.389494329520897</td><td>19.25260168934302</td></tr>\n",
       "<tr><td>4634221952348062464</td><td>292.8003</td><td>0.20790610562894887</td><td>0.16978050717114818</td><td>0.2245061926411365</td><td>0.11909858765940742</td><td>20.067319492828855</td><td>20.389493807358864</td><td>19.252601412340592</td></tr>\n",
       "<tr><td>4689743922296231168</td><td>1327.9918</td><td>0.0</td><td>0.0</td><td>0.0</td><td>0.0</td><td>20.1753</td><td>20.4215</td><td>19.6939</td></tr>\n",
       "</table></div>"
      ],
      "text/plain": [
       "<Table length=10>\n",
       "     source_id      r_med_geo ...    BPmag_dered        RPmag_dered    \n",
       "                        pc    ...                                      \n",
       "       int64         float32  ...      float64            float64      \n",
       "------------------- --------- ... ------------------ ------------------\n",
       " 384905313981247488 909.75037 ... 19.852896837634002 19.661530910239343\n",
       " 386745999526937472  347.9076 ... 18.167756940791552 17.321110684220717\n",
       " 420382126104059648  334.5963 ... 20.953651458754578 19.737673729684552\n",
       " 531377820628691968 208.96135 ... 20.479815776940505 19.993955089461625\n",
       "2334982270668338432 386.72684 ... 21.088106895779088 19.937332733527683\n",
       "2740011151405035904 343.92322 ...  21.27434344427448 19.708587888335494\n",
       "2881740845924738944 1141.2134 ... 20.001323018414723 19.311140724272704\n",
       "4634221952348062464  292.8003 ... 20.389494329520897  19.25260168934302\n",
       "4634221952348062464  292.8003 ... 20.389493807358864 19.252601412340592\n",
       "4689743922296231168 1327.9918 ...            20.4215            19.6939"
      ]
     },
     "execution_count": 6,
     "metadata": {},
     "output_type": "execute_result"
    }
   ],
   "source": [
    "wdphoto.fit.fit_parameters(catalog, source_id_key = 'source_id', coord_keys = ('RAdeg', 'DEdeg'), \n",
    "                             photo_keys = ('Gmag', 'BPmag', 'RPmag'), photo_bands = ('Gaia_G', 'Gaia_BP', 'Gaia_RP'))"
   ]
  },
  {
   "cell_type": "code",
   "execution_count": null,
   "metadata": {},
   "outputs": [],
   "source": []
  }
 ],
 "metadata": {
  "kernelspec": {
   "display_name": "Python 3",
   "language": "python",
   "name": "python3"
  },
  "language_info": {
   "codemirror_mode": {
    "name": "ipython",
    "version": 3
   },
   "file_extension": ".py",
   "mimetype": "text/x-python",
   "name": "python",
   "nbconvert_exporter": "python",
   "pygments_lexer": "ipython3",
   "version": "3.8.3"
  }
 },
 "nbformat": 4,
 "nbformat_minor": 4
}
