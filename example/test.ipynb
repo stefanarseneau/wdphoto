{
 "cells": [
  {
   "cell_type": "code",
   "execution_count": 1,
   "metadata": {},
   "outputs": [],
   "source": [
    "import wdphoto\n",
    "from astropy.table import Table, join, vstack\n",
    "from astroquery.gaia import Gaia\n",
    "from tqdm import tqdm\n",
    "import numpy as np\n",
    "\n",
    "import pyphot"
   ]
  },
  {
   "cell_type": "code",
   "execution_count": 2,
   "metadata": {},
   "outputs": [],
   "source": [
    "catalog = Table.read('raddi.csv')"
   ]
  },
  {
   "cell_type": "code",
   "execution_count": 3,
   "metadata": {},
   "outputs": [
    {
     "data": {
      "text/html": [
       "<div><i>Table length=3</i>\n",
       "<table id=\"table23456194906576\" class=\"table-striped table-bordered table-condensed\">\n",
       "<thead><tr><th>System</th><th>SOURCE_ID</th><th>ra</th><th>dec</th><th>phot_g_mean_mag</th><th>phot_bp_mean_mag</th><th>phot_rp_mean_mag</th><th>e_gmag</th><th>e_bpmag</th><th>e_rpmag</th><th>Radius</th><th>Teff</th></tr></thead>\n",
       "<thead><tr><th>int64</th><th>int64</th><th>float64</th><th>float64</th><th>float64</th><th>float64</th><th>float64</th><th>float64</th><th>float64</th><th>float64</th><th>float64</th><th>float64</th></tr></thead>\n",
       "<tr><td>1</td><td>152935195517952</td><td>45.92584336054053</td><td>0.8861107939012035</td><td>17.980106353759766</td><td>18.000093460083008</td><td>17.998868942260742</td><td>0.0015130783995822373</td><td>0.013217996211741332</td><td>0.013788312941508103</td><td>0.018</td><td>11641.26</td></tr>\n",
       "<tr><td>2</td><td>288175125714560</td><td>44.287428493193936</td><td>0.7743463085708776</td><td>17.467531204223633</td><td>17.490589141845703</td><td>17.51779556274414</td><td>0.0015501767872426815</td><td>0.010535382064445955</td><td>0.013653327770129304</td><td>0.014</td><td>12133.889</td></tr>\n",
       "<tr><td>3</td><td>298895364329216</td><td>44.443285007130946</td><td>1.0183527718560161</td><td>17.783056259155273</td><td>17.73702049255371</td><td>17.936655044555664</td><td>0.0014834472444328764</td><td>0.011114552747722923</td><td>0.03457267690225826</td><td>0.009</td><td>17060.824</td></tr>\n",
       "</table></div>"
      ],
      "text/plain": [
       "<Table length=3>\n",
       "System    SOURCE_ID            ra         ...  Radius    Teff  \n",
       "int64       int64           float64       ... float64  float64 \n",
       "------ --------------- ------------------ ... ------- ---------\n",
       "     1 152935195517952  45.92584336054053 ...   0.018  11641.26\n",
       "     2 288175125714560 44.287428493193936 ...   0.014 12133.889\n",
       "     3 298895364329216 44.443285007130946 ...   0.009 17060.824"
      ]
     },
     "execution_count": 3,
     "metadata": {},
     "output_type": "execute_result"
    }
   ],
   "source": [
    "catalog[0:3]"
   ]
  },
  {
   "cell_type": "code",
   "execution_count": 5,
   "metadata": {},
   "outputs": [
    {
     "name": "stderr",
     "output_type": "stream",
     "text": [
      "Integrating extinction map (this might take a couple of minutes)...\n",
      "Optimizing map for querying (this might take a couple of seconds)...\n",
      "100%|██████████| 30/30 [00:59<00:00,  1.97s/it]\n"
     ]
    }
   ],
   "source": [
    "out = wdphoto.fit.fit_parameters(catalog[0:30], source_id_key = 'SOURCE_ID', coord_keys = ('ra', 'dec'), \n",
    "                             photo_keys = ('phot_g_mean_mag', 'phot_bp_mean_mag', 'phot_rp_mean_mag'), e_photo_keys = ('e_gmag', 'e_bpmag', 'e_rpmag'),\n",
    "                           photo_bands = ('Gaia_G', 'Gaia_BP', 'Gaia_RP'), verbose_output = False, plot = False)"
   ]
  },
  {
   "cell_type": "code",
   "execution_count": 6,
   "metadata": {},
   "outputs": [
    {
     "data": {
      "text/html": [
       "<div><i>Table length=3</i>\n",
       "<table id=\"table23453834033184\" class=\"table-striped table-bordered table-condensed\">\n",
       "<thead><tr><th>SOURCE_ID</th><th>radius</th><th>e_radius</th><th>teff</th><th>e_teff</th><th>redchi</th></tr></thead>\n",
       "<thead><tr><th>int64</th><th>float64</th><th>float64</th><th>float64</th><th>float64</th><th>float64</th></tr></thead>\n",
       "<tr><td>152935195517952</td><td>0.015818266218978836</td><td>0.000130500357672266</td><td>12540.181983456701</td><td>145.1301333487816</td><td>0.11399667842247604</td></tr>\n",
       "<tr><td>288175125714560</td><td>0.013445102029820718</td><td>0.00045290160832572277</td><td>12382.616541184154</td><td>492.2762441846907</td><td>38.897327362904704</td></tr>\n",
       "<tr><td>298895364329216</td><td>0.009815934902334624</td><td>0.000350998709944943</td><td>16587.001939121386</td><td>718.9277867319311</td><td>1.0557904065790094</td></tr>\n",
       "</table></div>"
      ],
      "text/plain": [
       "<Table length=3>\n",
       "   SOURCE_ID           radius        ...       e_teff             redchi      \n",
       "     int64            float64        ...      float64            float64      \n",
       "--------------- -------------------- ... ----------------- -------------------\n",
       "152935195517952 0.015818266218978836 ... 145.1301333487816 0.11399667842247604\n",
       "288175125714560 0.013445102029820718 ... 492.2762441846907  38.897327362904704\n",
       "298895364329216 0.009815934902334624 ... 718.9277867319311  1.0557904065790094"
      ]
     },
     "execution_count": 6,
     "metadata": {},
     "output_type": "execute_result"
    }
   ],
   "source": [
    "out[0:3]"
   ]
  },
  {
   "cell_type": "code",
   "execution_count": 7,
   "metadata": {},
   "outputs": [
    {
     "ename": "NameError",
     "evalue": "name 'plt' is not defined",
     "output_type": "error",
     "traceback": [
      "\u001b[0;31m---------------------------------------------------------------------------\u001b[0m",
      "\u001b[0;31mNameError\u001b[0m                                 Traceback (most recent call last)",
      "\u001b[0;32m<ipython-input-7-89ddec92d50b>\u001b[0m in \u001b[0;36m<module>\u001b[0;34m\u001b[0m\n\u001b[0;32m----> 1\u001b[0;31m \u001b[0mplt\u001b[0m\u001b[0;34m.\u001b[0m\u001b[0mscatter\u001b[0m\u001b[0;34m(\u001b[0m\u001b[0mcatalog\u001b[0m\u001b[0;34m[\u001b[0m\u001b[0;34m'Radius'\u001b[0m\u001b[0;34m]\u001b[0m\u001b[0;34m[\u001b[0m\u001b[0;36m0\u001b[0m\u001b[0;34m:\u001b[0m\u001b[0;36m30\u001b[0m\u001b[0;34m]\u001b[0m\u001b[0;34m,\u001b[0m \u001b[0mout\u001b[0m\u001b[0;34m[\u001b[0m\u001b[0;34m'radius'\u001b[0m\u001b[0;34m]\u001b[0m\u001b[0;34m[\u001b[0m\u001b[0;36m0\u001b[0m\u001b[0;34m:\u001b[0m\u001b[0;36m30\u001b[0m\u001b[0;34m]\u001b[0m\u001b[0;34m)\u001b[0m\u001b[0;34m\u001b[0m\u001b[0;34m\u001b[0m\u001b[0m\n\u001b[0m",
      "\u001b[0;31mNameError\u001b[0m: name 'plt' is not defined"
     ]
    }
   ],
   "source": [
    "plt.scatter(catalog['Radius'][0:30], out['radius'][0:30])"
   ]
  },
  {
   "cell_type": "code",
   "execution_count": null,
   "metadata": {},
   "outputs": [],
   "source": []
  }
 ],
 "metadata": {
  "kernelspec": {
   "display_name": "Python 3",
   "language": "python",
   "name": "python3"
  },
  "language_info": {
   "codemirror_mode": {
    "name": "ipython",
    "version": 3
   },
   "file_extension": ".py",
   "mimetype": "text/x-python",
   "name": "python",
   "nbconvert_exporter": "python",
   "pygments_lexer": "ipython3",
   "version": "3.8.3"
  }
 },
 "nbformat": 4,
 "nbformat_minor": 4
}
