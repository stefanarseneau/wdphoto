{
 "cells": [
  {
   "cell_type": "code",
   "execution_count": 1,
   "metadata": {},
   "outputs": [],
   "source": [
    "from astropy.table import Table, join, vstack\n",
    "import sys\n",
    "sys.path.append('../src')\n",
    "\n",
    "import wdphoto\n",
    "\n",
    "import numpy as np\n",
    "import matplotlib.pyplot as plt"
   ]
  },
  {
   "cell_type": "code",
   "execution_count": 2,
   "metadata": {},
   "outputs": [],
   "source": [
    "from scipy.interpolate import RegularGridInterpolator\n",
    "\n",
    "def read_cache(table):\n",
    "    cache = Table.read(table)\n",
    "    \n",
    "    teff = np.unique(np.array(cache['teff']))\n",
    "    logg = np.unique(np.array(cache['logg']))\n",
    "    \n",
    "    key_dict = {}\n",
    "    raw_data = np.zeros((len(teff), len(logg), 271))\n",
    "    \n",
    "    #test.remove_columns(['teff', 'logg'])\n",
    "    for i in range(len(teff)):\n",
    "        for j in range(len(logg)):\n",
    "            teff_loc = np.where(cache['teff'] == teff[i])[0]\n",
    "            logg_loc = np.where(cache['logg'] == logg[j])[0]\n",
    "    \n",
    "            k = np.intersect1d(teff_loc, logg_loc)[0]\n",
    "            raw_data[i,j] = [cache[key][k] for key in cache.keys()[2:]]\n",
    "            \n",
    "    for ii, key in enumerate(cache.keys()[2:]):\n",
    "        key_dict[key] = ii\n",
    "            \n",
    "    model_sed = RegularGridInterpolator((teff, logg), raw_data)\n",
    "    \n",
    "    return model_sed, key_dict\n",
    "    \n",
    "model_sed, key_dict = read_cache('/home/sarsene1/dev/wdphoto/caches/warwick_cache_table.csv')"
   ]
  },
  {
   "cell_type": "code",
   "execution_count": 3,
   "metadata": {},
   "outputs": [],
   "source": [
    "#%%timeit\n",
    "#n = model_sed((10000,8))"
   ]
  },
  {
   "cell_type": "code",
   "execution_count": null,
   "metadata": {},
   "outputs": [],
   "source": []
  },
  {
   "cell_type": "code",
   "execution_count": 4,
   "metadata": {},
   "outputs": [],
   "source": [
    "catalog = Table.read('raddi.csv')"
   ]
  },
  {
   "cell_type": "code",
   "execution_count": 5,
   "metadata": {},
   "outputs": [
    {
     "data": {
      "text/html": [
       "<div><i>Table length=3</i>\n",
       "<table id=\"table23453834656016\" class=\"table-striped table-bordered table-condensed\">\n",
       "<thead><tr><th>System</th><th>SOURCE_ID</th><th>ra</th><th>dec</th><th>phot_g_mean_mag</th><th>phot_bp_mean_mag</th><th>phot_rp_mean_mag</th><th>e_gmag</th><th>e_bpmag</th><th>e_rpmag</th><th>Radius</th><th>Teff</th></tr></thead>\n",
       "<thead><tr><th>int64</th><th>int64</th><th>float64</th><th>float64</th><th>float64</th><th>float64</th><th>float64</th><th>float64</th><th>float64</th><th>float64</th><th>float64</th><th>float64</th></tr></thead>\n",
       "<tr><td>1</td><td>152935195517952</td><td>45.92584336054053</td><td>0.8861107939012035</td><td>17.980106353759766</td><td>18.000093460083008</td><td>17.998868942260742</td><td>0.0015130783995822373</td><td>0.013217996211741332</td><td>0.013788312941508103</td><td>0.018</td><td>11641.26</td></tr>\n",
       "<tr><td>2</td><td>288175125714560</td><td>44.287428493193936</td><td>0.7743463085708776</td><td>17.467531204223633</td><td>17.490589141845703</td><td>17.51779556274414</td><td>0.0015501767872426815</td><td>0.010535382064445955</td><td>0.013653327770129304</td><td>0.014</td><td>12133.889</td></tr>\n",
       "<tr><td>3</td><td>298895364329216</td><td>44.443285007130946</td><td>1.0183527718560161</td><td>17.783056259155273</td><td>17.73702049255371</td><td>17.936655044555664</td><td>0.0014834472444328764</td><td>0.011114552747722923</td><td>0.03457267690225826</td><td>0.009</td><td>17060.824</td></tr>\n",
       "</table></div>"
      ],
      "text/plain": [
       "<Table length=3>\n",
       "System    SOURCE_ID            ra         ...  Radius    Teff  \n",
       "int64       int64           float64       ... float64  float64 \n",
       "------ --------------- ------------------ ... ------- ---------\n",
       "     1 152935195517952  45.92584336054053 ...   0.018  11641.26\n",
       "     2 288175125714560 44.287428493193936 ...   0.014 12133.889\n",
       "     3 298895364329216 44.443285007130946 ...   0.009 17060.824"
      ]
     },
     "execution_count": 5,
     "metadata": {},
     "output_type": "execute_result"
    }
   ],
   "source": [
    "catalog[0:3]"
   ]
  },
  {
   "cell_type": "code",
   "execution_count": 6,
   "metadata": {},
   "outputs": [
    {
     "name": "stderr",
     "output_type": "stream",
     "text": [
      "Integrating extinction map (this might take a couple of minutes)...\n",
      "Optimizing map for querying (this might take a couple of seconds)...\n",
      " 30%|███       | 9/30 [00:04<00:05,  4.08it/s]"
     ]
    },
    {
     "name": "stdout",
     "output_type": "stream",
     "text": [
      "Failed to fit source Gaia DR3 14141304376849280, appending -9999!\n"
     ]
    },
    {
     "name": "stderr",
     "output_type": "stream",
     "text": [
      "100%|██████████| 30/30 [00:07<00:00,  4.11it/s]\n"
     ]
    }
   ],
   "source": [
    "out_cache, fig_cache = wdphoto.fit.fit_parameters(catalog[0:30], source_id_key = 'SOURCE_ID', coord_keys = ('ra', 'dec'), \n",
    "                                      photo_keys = ('phot_g_mean_mag', 'phot_bp_mean_mag', 'phot_rp_mean_mag'), e_photo_keys = ('e_gmag', 'e_bpmag', 'e_rpmag'),\n",
    "                                      photo_bands = ('Gaia_G', 'Gaia_BP', 'Gaia_RP'), cachefile = '/home/sarsene1/dev/wdphoto/caches/warwick_cache_table.csv', \n",
    "                                      verbose_output = True, plot = True)"
   ]
  },
  {
   "cell_type": "code",
   "execution_count": 7,
   "metadata": {},
   "outputs": [
    {
     "name": "stderr",
     "output_type": "stream",
     "text": [
      "Integrating extinction map (this might take a couple of minutes)...\n",
      "Optimizing map for querying (this might take a couple of seconds)...\n",
      "100%|██████████| 30/30 [00:58<00:00,  1.97s/it]\n"
     ]
    }
   ],
   "source": [
    "out_conv, fig_conv = wdphoto.fit.fit_parameters(catalog[0:30], source_id_key = 'SOURCE_ID', coord_keys = ('ra', 'dec'), \n",
    "                             photo_keys = ('phot_g_mean_mag', 'phot_bp_mean_mag', 'phot_rp_mean_mag'), e_photo_keys = ('e_gmag', 'e_bpmag', 'e_rpmag'),\n",
    "                           photo_bands = ('Gaia_G', 'Gaia_BP', 'Gaia_RP'), verbose_output = True, plot = True)"
   ]
  },
  {
   "cell_type": "code",
   "execution_count": 8,
   "metadata": {},
   "outputs": [
    {
     "data": {
      "text/plain": [
       "Text(0, 0.5, 'Radius from cache table')"
      ]
     },
     "execution_count": 8,
     "metadata": {},
     "output_type": "execute_result"
    },
    {
     "data": {
      "image/png": "[encoded data removed]",
      "text/plain": [
       "<Figure size 432x288 with 1 Axes>"
      ]
     },
     "metadata": {
      "needs_background": "light"
     },
     "output_type": "display_data"
    }
   ],
   "source": [
    "mask = np.all([out_cache['radius'] > 0], axis = 0)\n",
    "\n",
    "plt.scatter(out_conv[mask]['radius'], out_cache[mask]['radius'])\n",
    "plt.xlabel('Radius from convolution')\n",
    "plt.ylabel('Radius from cache table')"
   ]
  },
  {
   "cell_type": "code",
   "execution_count": null,
   "metadata": {},
   "outputs": [],
   "source": []
  }
 ],
 "metadata": {
  "kernelspec": {
   "display_name": "Python 3",
   "language": "python",
   "name": "python3"
  },
  "language_info": {
   "codemirror_mode": {
    "name": "ipython",
    "version": 3
   },
   "file_extension": ".py",
   "mimetype": "text/x-python",
   "name": "python",
   "nbconvert_exporter": "python",
   "pygments_lexer": "ipython3",
   "version": "3.8.3"
  }
 },
 "nbformat": 4,
 "nbformat_minor": 4
}
